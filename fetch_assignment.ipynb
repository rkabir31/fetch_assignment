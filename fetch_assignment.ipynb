{
 "cells": [
  {
   "cell_type": "markdown",
   "metadata": {},
   "source": [
    "## Exploring the Data"
   ]
  },
  {
   "cell_type": "code",
   "execution_count": 4,
   "metadata": {},
   "outputs": [
    {
     "name": "stdout",
     "output_type": "stream",
     "text": [
      "[{'_id': {'$oid': '5ff1e194b6a9d73a3a9f1052'}, 'active': True, 'createdDate': {'$date': 1609687444800}, 'lastLogin': {'$date': 1609687537858}, 'role': 'consumer', 'signUpSource': 'Email', 'state': 'WI'}]\n"
     ]
    }
   ],
   "source": [
    "import json\n",
    "\n",
    "# Path to the uncompressed users.json file\n",
    "users_file = 'data/users.json'\n",
    "\n",
    "# Function to load line-delimited JSON\n",
    "def load_ndjson(filepath):\n",
    "    data = []\n",
    "    with open(filepath, 'r') as f:\n",
    "        for line in f:\n",
    "            if line.strip():  # Skip empty lines\n",
    "                data.append(json.loads(line))\n",
    "    return data\n",
    "\n",
    "# Load the users data\n",
    "users_data = load_ndjson(users_file)\n",
    "\n",
    "# Check the structure of the first few records\n",
    "print(users_data[:1])"
   ]
  },
  {
   "cell_type": "code",
   "execution_count": 6,
   "metadata": {},
   "outputs": [
    {
     "data": {
      "text/html": [
       "<div>\n",
       "<style scoped>\n",
       "    .dataframe tbody tr th:only-of-type {\n",
       "        vertical-align: middle;\n",
       "    }\n",
       "\n",
       "    .dataframe tbody tr th {\n",
       "        vertical-align: top;\n",
       "    }\n",
       "\n",
       "    .dataframe thead th {\n",
       "        text-align: right;\n",
       "    }\n",
       "</style>\n",
       "<table border=\"1\" class=\"dataframe\">\n",
       "  <thead>\n",
       "    <tr style=\"text-align: right;\">\n",
       "      <th></th>\n",
       "      <th>_id</th>\n",
       "      <th>active</th>\n",
       "      <th>createdDate</th>\n",
       "      <th>lastLogin</th>\n",
       "      <th>role</th>\n",
       "      <th>signUpSource</th>\n",
       "      <th>state</th>\n",
       "    </tr>\n",
       "  </thead>\n",
       "  <tbody>\n",
       "    <tr>\n",
       "      <th>0</th>\n",
       "      <td>{'$oid': '5ff1e194b6a9d73a3a9f1052'}</td>\n",
       "      <td>True</td>\n",
       "      <td>{'$date': 1609687444800}</td>\n",
       "      <td>{'$date': 1609687537858}</td>\n",
       "      <td>consumer</td>\n",
       "      <td>Email</td>\n",
       "      <td>WI</td>\n",
       "    </tr>\n",
       "    <tr>\n",
       "      <th>1</th>\n",
       "      <td>{'$oid': '5ff1e194b6a9d73a3a9f1052'}</td>\n",
       "      <td>True</td>\n",
       "      <td>{'$date': 1609687444800}</td>\n",
       "      <td>{'$date': 1609687537858}</td>\n",
       "      <td>consumer</td>\n",
       "      <td>Email</td>\n",
       "      <td>WI</td>\n",
       "    </tr>\n",
       "    <tr>\n",
       "      <th>2</th>\n",
       "      <td>{'$oid': '5ff1e194b6a9d73a3a9f1052'}</td>\n",
       "      <td>True</td>\n",
       "      <td>{'$date': 1609687444800}</td>\n",
       "      <td>{'$date': 1609687537858}</td>\n",
       "      <td>consumer</td>\n",
       "      <td>Email</td>\n",
       "      <td>WI</td>\n",
       "    </tr>\n",
       "    <tr>\n",
       "      <th>3</th>\n",
       "      <td>{'$oid': '5ff1e1eacfcf6c399c274ae6'}</td>\n",
       "      <td>True</td>\n",
       "      <td>{'$date': 1609687530554}</td>\n",
       "      <td>{'$date': 1609687530597}</td>\n",
       "      <td>consumer</td>\n",
       "      <td>Email</td>\n",
       "      <td>WI</td>\n",
       "    </tr>\n",
       "    <tr>\n",
       "      <th>4</th>\n",
       "      <td>{'$oid': '5ff1e194b6a9d73a3a9f1052'}</td>\n",
       "      <td>True</td>\n",
       "      <td>{'$date': 1609687444800}</td>\n",
       "      <td>{'$date': 1609687537858}</td>\n",
       "      <td>consumer</td>\n",
       "      <td>Email</td>\n",
       "      <td>WI</td>\n",
       "    </tr>\n",
       "  </tbody>\n",
       "</table>\n",
       "</div>"
      ],
      "text/plain": [
       "                                    _id  active               createdDate  \\\n",
       "0  {'$oid': '5ff1e194b6a9d73a3a9f1052'}    True  {'$date': 1609687444800}   \n",
       "1  {'$oid': '5ff1e194b6a9d73a3a9f1052'}    True  {'$date': 1609687444800}   \n",
       "2  {'$oid': '5ff1e194b6a9d73a3a9f1052'}    True  {'$date': 1609687444800}   \n",
       "3  {'$oid': '5ff1e1eacfcf6c399c274ae6'}    True  {'$date': 1609687530554}   \n",
       "4  {'$oid': '5ff1e194b6a9d73a3a9f1052'}    True  {'$date': 1609687444800}   \n",
       "\n",
       "                  lastLogin      role signUpSource state  \n",
       "0  {'$date': 1609687537858}  consumer        Email    WI  \n",
       "1  {'$date': 1609687537858}  consumer        Email    WI  \n",
       "2  {'$date': 1609687537858}  consumer        Email    WI  \n",
       "3  {'$date': 1609687530597}  consumer        Email    WI  \n",
       "4  {'$date': 1609687537858}  consumer        Email    WI  "
      ]
     },
     "execution_count": 6,
     "metadata": {},
     "output_type": "execute_result"
    }
   ],
   "source": [
    "import pandas as pd\n",
    "\n",
    "# Convert the loaded JSON data into a pandas DataFrame\n",
    "users_df = pd.DataFrame(users_data)\n",
    "\n",
    "# Inspect the first few rows\n",
    "users_df.head()"
   ]
  },
  {
   "cell_type": "code",
   "execution_count": 8,
   "metadata": {},
   "outputs": [],
   "source": [
    "import pandas as pd\n",
    "\n",
    "# Load the JSON files into pandas DataFrames\n",
    "users_df = pd.read_json('data/users.json', lines=True)\n",
    "receipts_df = pd.read_json('data/receipts.json', lines=True)\n",
    "brands_df = pd.read_json('data/brands.json', lines=True)"
   ]
  },
  {
   "cell_type": "code",
   "execution_count": 9,
   "metadata": {},
   "outputs": [
    {
     "name": "stdout",
     "output_type": "stream",
     "text": [
      "<class 'pandas.core.frame.DataFrame'>\n",
      "RangeIndex: 495 entries, 0 to 494\n",
      "Data columns (total 7 columns):\n",
      " #   Column        Non-Null Count  Dtype \n",
      "---  ------        --------------  ----- \n",
      " 0   _id           495 non-null    object\n",
      " 1   active        495 non-null    bool  \n",
      " 2   createdDate   495 non-null    object\n",
      " 3   lastLogin     433 non-null    object\n",
      " 4   role          495 non-null    object\n",
      " 5   signUpSource  447 non-null    object\n",
      " 6   state         439 non-null    object\n",
      "dtypes: bool(1), object(6)\n",
      "memory usage: 23.8+ KB\n",
      "None\n",
      "<class 'pandas.core.frame.DataFrame'>\n",
      "RangeIndex: 1119 entries, 0 to 1118\n",
      "Data columns (total 15 columns):\n",
      " #   Column                   Non-Null Count  Dtype  \n",
      "---  ------                   --------------  -----  \n",
      " 0   _id                      1119 non-null   object \n",
      " 1   bonusPointsEarned        544 non-null    float64\n",
      " 2   bonusPointsEarnedReason  544 non-null    object \n",
      " 3   createDate               1119 non-null   object \n",
      " 4   dateScanned              1119 non-null   object \n",
      " 5   finishedDate             568 non-null    object \n",
      " 6   modifyDate               1119 non-null   object \n",
      " 7   pointsAwardedDate        537 non-null    object \n",
      " 8   pointsEarned             609 non-null    float64\n",
      " 9   purchaseDate             671 non-null    object \n",
      " 10  purchasedItemCount       635 non-null    float64\n",
      " 11  rewardsReceiptItemList   679 non-null    object \n",
      " 12  rewardsReceiptStatus     1119 non-null   object \n",
      " 13  totalSpent               684 non-null    float64\n",
      " 14  userId                   1119 non-null   object \n",
      "dtypes: float64(4), object(11)\n",
      "memory usage: 131.3+ KB\n",
      "None\n",
      "<class 'pandas.core.frame.DataFrame'>\n",
      "RangeIndex: 1167 entries, 0 to 1166\n",
      "Data columns (total 8 columns):\n",
      " #   Column        Non-Null Count  Dtype  \n",
      "---  ------        --------------  -----  \n",
      " 0   _id           1167 non-null   object \n",
      " 1   barcode       1167 non-null   int64  \n",
      " 2   category      1012 non-null   object \n",
      " 3   categoryCode  517 non-null    object \n",
      " 4   cpg           1167 non-null   object \n",
      " 5   name          1167 non-null   object \n",
      " 6   topBrand      555 non-null    float64\n",
      " 7   brandCode     933 non-null    object \n",
      "dtypes: float64(1), int64(1), object(6)\n",
      "memory usage: 73.1+ KB\n",
      "None\n",
      "                                    _id  active               createdDate  \\\n",
      "0  {'$oid': '5ff1e194b6a9d73a3a9f1052'}    True  {'$date': 1609687444800}   \n",
      "1  {'$oid': '5ff1e194b6a9d73a3a9f1052'}    True  {'$date': 1609687444800}   \n",
      "2  {'$oid': '5ff1e194b6a9d73a3a9f1052'}    True  {'$date': 1609687444800}   \n",
      "3  {'$oid': '5ff1e1eacfcf6c399c274ae6'}    True  {'$date': 1609687530554}   \n",
      "4  {'$oid': '5ff1e194b6a9d73a3a9f1052'}    True  {'$date': 1609687444800}   \n",
      "\n",
      "                  lastLogin      role signUpSource state  \n",
      "0  {'$date': 1609687537858}  consumer        Email    WI  \n",
      "1  {'$date': 1609687537858}  consumer        Email    WI  \n",
      "2  {'$date': 1609687537858}  consumer        Email    WI  \n",
      "3  {'$date': 1609687530597}  consumer        Email    WI  \n",
      "4  {'$date': 1609687537858}  consumer        Email    WI  \n",
      "                                    _id  bonusPointsEarned  \\\n",
      "0  {'$oid': '5ff1e1eb0a720f0523000575'}              500.0   \n",
      "1  {'$oid': '5ff1e1bb0a720f052300056b'}              150.0   \n",
      "2  {'$oid': '5ff1e1f10a720f052300057a'}                5.0   \n",
      "3  {'$oid': '5ff1e1ee0a7214ada100056f'}                5.0   \n",
      "4  {'$oid': '5ff1e1d20a7214ada1000561'}                5.0   \n",
      "\n",
      "                             bonusPointsEarnedReason  \\\n",
      "0  Receipt number 2 completed, bonus point schedu...   \n",
      "1  Receipt number 5 completed, bonus point schedu...   \n",
      "2                         All-receipts receipt bonus   \n",
      "3                         All-receipts receipt bonus   \n",
      "4                         All-receipts receipt bonus   \n",
      "\n",
      "                 createDate               dateScanned  \\\n",
      "0  {'$date': 1609687531000}  {'$date': 1609687531000}   \n",
      "1  {'$date': 1609687483000}  {'$date': 1609687483000}   \n",
      "2  {'$date': 1609687537000}  {'$date': 1609687537000}   \n",
      "3  {'$date': 1609687534000}  {'$date': 1609687534000}   \n",
      "4  {'$date': 1609687506000}  {'$date': 1609687506000}   \n",
      "\n",
      "               finishedDate                modifyDate  \\\n",
      "0  {'$date': 1609687531000}  {'$date': 1609687536000}   \n",
      "1  {'$date': 1609687483000}  {'$date': 1609687488000}   \n",
      "2                       NaN  {'$date': 1609687542000}   \n",
      "3  {'$date': 1609687534000}  {'$date': 1609687539000}   \n",
      "4  {'$date': 1609687511000}  {'$date': 1609687511000}   \n",
      "\n",
      "          pointsAwardedDate  pointsEarned              purchaseDate  \\\n",
      "0  {'$date': 1609687531000}         500.0  {'$date': 1609632000000}   \n",
      "1  {'$date': 1609687483000}         150.0  {'$date': 1609601083000}   \n",
      "2                       NaN           5.0  {'$date': 1609632000000}   \n",
      "3  {'$date': 1609687534000}           5.0  {'$date': 1609632000000}   \n",
      "4  {'$date': 1609687506000}           5.0  {'$date': 1609601106000}   \n",
      "\n",
      "   purchasedItemCount                             rewardsReceiptItemList  \\\n",
      "0                 5.0  [{'barcode': '4011', 'description': 'ITEM NOT ...   \n",
      "1                 2.0  [{'barcode': '4011', 'description': 'ITEM NOT ...   \n",
      "2                 1.0  [{'needsFetchReview': False, 'partnerItemId': ...   \n",
      "3                 4.0  [{'barcode': '4011', 'description': 'ITEM NOT ...   \n",
      "4                 2.0  [{'barcode': '4011', 'description': 'ITEM NOT ...   \n",
      "\n",
      "  rewardsReceiptStatus  totalSpent                    userId  \n",
      "0             FINISHED        26.0  5ff1e1eacfcf6c399c274ae6  \n",
      "1             FINISHED        11.0  5ff1e194b6a9d73a3a9f1052  \n",
      "2             REJECTED        10.0  5ff1e1f1cfcf6c399c274b0b  \n",
      "3             FINISHED        28.0  5ff1e1eacfcf6c399c274ae6  \n",
      "4             FINISHED         1.0  5ff1e194b6a9d73a3a9f1052  \n",
      "                                    _id       barcode        category  \\\n",
      "0  {'$oid': '601ac115be37ce2ead437551'}  511111019862          Baking   \n",
      "1  {'$oid': '601c5460be37ce2ead43755f'}  511111519928       Beverages   \n",
      "2  {'$oid': '601ac142be37ce2ead43755d'}  511111819905          Baking   \n",
      "3  {'$oid': '601ac142be37ce2ead43755a'}  511111519874          Baking   \n",
      "4  {'$oid': '601ac142be37ce2ead43755e'}  511111319917  Candy & Sweets   \n",
      "\n",
      "       categoryCode                                                cpg  \\\n",
      "0            BAKING  {'$id': {'$oid': '601ac114be37ce2ead437550'}, ...   \n",
      "1         BEVERAGES  {'$id': {'$oid': '5332f5fbe4b03c9a25efd0ba'}, ...   \n",
      "2            BAKING  {'$id': {'$oid': '601ac142be37ce2ead437559'}, ...   \n",
      "3            BAKING  {'$id': {'$oid': '601ac142be37ce2ead437559'}, ...   \n",
      "4  CANDY_AND_SWEETS  {'$id': {'$oid': '5332fa12e4b03c9a25efd1e7'}, ...   \n",
      "\n",
      "                        name  topBrand                      brandCode  \n",
      "0  test brand @1612366101024       0.0                            NaN  \n",
      "1                  Starbucks       0.0                      STARBUCKS  \n",
      "2  test brand @1612366146176       0.0  TEST BRANDCODE @1612366146176  \n",
      "3  test brand @1612366146051       0.0  TEST BRANDCODE @1612366146051  \n",
      "4  test brand @1612366146827       0.0  TEST BRANDCODE @1612366146827  \n"
     ]
    }
   ],
   "source": [
    "# Check basic structure and data types\n",
    "print(users_df.info())\n",
    "print(receipts_df.info())\n",
    "print(brands_df.info())\n",
    "\n",
    "# Check first few rows for initial inspection\n",
    "print(users_df.head())\n",
    "print(receipts_df.head())\n",
    "print(brands_df.head())"
   ]
  },
  {
   "cell_type": "markdown",
   "metadata": {},
   "source": [
    "## Checking for missing values"
   ]
  },
  {
   "cell_type": "code",
   "execution_count": 10,
   "metadata": {},
   "outputs": [
    {
     "name": "stdout",
     "output_type": "stream",
     "text": [
      "Missing values in Users DataFrame:\n",
      "_id              0\n",
      "active           0\n",
      "createdDate      0\n",
      "lastLogin       62\n",
      "role             0\n",
      "signUpSource    48\n",
      "state           56\n",
      "dtype: int64\n",
      "Missing values in Receipts DataFrame:\n",
      "_id                          0\n",
      "bonusPointsEarned          575\n",
      "bonusPointsEarnedReason    575\n",
      "createDate                   0\n",
      "dateScanned                  0\n",
      "finishedDate               551\n",
      "modifyDate                   0\n",
      "pointsAwardedDate          582\n",
      "pointsEarned               510\n",
      "purchaseDate               448\n",
      "purchasedItemCount         484\n",
      "rewardsReceiptItemList     440\n",
      "rewardsReceiptStatus         0\n",
      "totalSpent                 435\n",
      "userId                       0\n",
      "dtype: int64\n",
      "Missing values in Brands DataFrame:\n",
      "_id               0\n",
      "barcode           0\n",
      "category        155\n",
      "categoryCode    650\n",
      "cpg               0\n",
      "name              0\n",
      "topBrand        612\n",
      "brandCode       234\n",
      "dtype: int64\n"
     ]
    }
   ],
   "source": [
    "# Check for missing values in each column\n",
    "print(\"Missing values in Users DataFrame:\")\n",
    "print(users_df.isnull().sum())\n",
    "\n",
    "print(\"Missing values in Receipts DataFrame:\")\n",
    "print(receipts_df.isnull().sum())\n",
    "\n",
    "print(\"Missing values in Brands DataFrame:\")\n",
    "print(brands_df.isnull().sum())\n"
   ]
  },
  {
   "cell_type": "markdown",
   "metadata": {},
   "source": [
    "## Checking for Duplicates"
   ]
  },
  {
   "cell_type": "code",
   "execution_count": 11,
   "metadata": {},
   "outputs": [
    {
     "name": "stdout",
     "output_type": "stream",
     "text": [
      "Duplicate records in Users DataFrame (by user_id):\n",
      "283\n",
      "Duplicate records in Receipts DataFrame (by receipt_id):\n",
      "0\n",
      "Duplicate records in Brands DataFrame (by brand_id):\n",
      "0\n"
     ]
    }
   ],
   "source": [
    "# Check for duplicate records in key fields like 'user_id', 'receipt_id', etc.\n",
    "print(\"Duplicate records in Users DataFrame (by user_id):\")\n",
    "print(users_df.duplicated(subset=['_id']).sum())\n",
    "\n",
    "print(\"Duplicate records in Receipts DataFrame (by receipt_id):\")\n",
    "print(receipts_df.duplicated(subset=['_id']).sum())\n",
    "\n",
    "print(\"Duplicate records in Brands DataFrame (by brand_id):\")\n",
    "print(brands_df.duplicated(subset=['_id']).sum())\n"
   ]
  },
  {
   "cell_type": "markdown",
   "metadata": {},
   "source": [
    "## Investigating data types"
   ]
  },
  {
   "cell_type": "code",
   "execution_count": 13,
   "metadata": {},
   "outputs": [
    {
     "name": "stdout",
     "output_type": "stream",
     "text": [
      "Receipts DataFrame data types:\n",
      "_id                         object\n",
      "bonusPointsEarned          float64\n",
      "bonusPointsEarnedReason     object\n",
      "createDate                  object\n",
      "dateScanned                 object\n",
      "finishedDate                object\n",
      "modifyDate                  object\n",
      "pointsAwardedDate           object\n",
      "pointsEarned               float64\n",
      "purchaseDate                object\n",
      "purchasedItemCount         float64\n",
      "rewardsReceiptItemList      object\n",
      "rewardsReceiptStatus        object\n",
      "totalSpent                 float64\n",
      "userId                      object\n",
      "dtype: object\n"
     ]
    }
   ],
   "source": [
    "# Check for data types and fix them if necessary\n",
    "print(\"Receipts DataFrame data types:\")\n",
    "print(receipts_df.dtypes)\n",
    "\n",
    "# Convert total_spent to numeric if it's not already\n",
    "receipts_df['totalSpent'] = pd.to_numeric(receipts_df['totalSpent'], errors='coerce')\n"
   ]
  },
  {
   "cell_type": "code",
   "execution_count": 21,
   "metadata": {},
   "outputs": [
    {
     "data": {
      "text/plain": [
       "_id                                object\n",
       "bonusPointsEarned                 float64\n",
       "bonusPointsEarnedReason            object\n",
       "createDate                 datetime64[ns]\n",
       "dateScanned                datetime64[ns]\n",
       "finishedDate               datetime64[ns]\n",
       "modifyDate                 datetime64[ns]\n",
       "pointsAwardedDate          datetime64[ns]\n",
       "pointsEarned                      float64\n",
       "purchaseDate               datetime64[ns]\n",
       "purchasedItemCount                float64\n",
       "rewardsReceiptItemList             object\n",
       "rewardsReceiptStatus               object\n",
       "totalSpent                        float64\n",
       "userId                             object\n",
       "purchase_date              datetime64[ns]\n",
       "dtype: object"
      ]
     },
     "execution_count": 21,
     "metadata": {},
     "output_type": "execute_result"
    }
   ],
   "source": [
    "def extract_date(json_obj):\n",
    "    try:\n",
    "        return pd.to_datetime(json_obj['$date'], unit='ms')\n",
    "    except (TypeError, KeyError):\n",
    "        return pd.NaT\n",
    "\n",
    "# Apply this function to all relevant date columns\n",
    "receipts_df['createDate'] = receipts_df['createDate'].apply(extract_date)\n",
    "receipts_df['dateScanned'] = receipts_df['dateScanned'].apply(extract_date)\n",
    "receipts_df['finishedDate'] = receipts_df['finishedDate'].apply(extract_date)\n",
    "receipts_df['modifyDate'] = receipts_df['modifyDate'].apply(extract_date)\n",
    "receipts_df['pointsAwardedDate'] = receipts_df['pointsAwardedDate'].apply(extract_date)\n",
    "receipts_df['purchaseDate'] = receipts_df['purchaseDate'].apply(extract_date)\n",
    "\n",
    "# Verify the changes\n",
    "receipts_df.dtypes"
   ]
  },
  {
   "cell_type": "code",
   "execution_count": 22,
   "metadata": {},
   "outputs": [
    {
     "data": {
      "text/plain": [
       "_id                     object\n",
       "active                    bool\n",
       "createdDate     datetime64[ns]\n",
       "lastLogin       datetime64[ns]\n",
       "role                    object\n",
       "signUpSource            object\n",
       "state                   object\n",
       "dtype: object"
      ]
     },
     "execution_count": 22,
     "metadata": {},
     "output_type": "execute_result"
    }
   ],
   "source": [
    "# Convert the date fields in users data to datetime\n",
    "users_df['createdDate'] = users_df['createdDate'].apply(extract_date)\n",
    "users_df['lastLogin'] = users_df['lastLogin'].apply(extract_date)\n",
    "\n",
    "# Verify the changes\n",
    "users_df.dtypes"
   ]
  },
  {
   "cell_type": "code",
   "execution_count": 24,
   "metadata": {},
   "outputs": [
    {
     "data": {
      "text/plain": [
       "(_id              object\n",
       " barcode           int64\n",
       " category         object\n",
       " categoryCode     object\n",
       " cpg              object\n",
       " name             object\n",
       " topBrand        float64\n",
       " brandCode        object\n",
       " dtype: object,\n",
       " _id                     object\n",
       " active                    bool\n",
       " createdDate     datetime64[ns]\n",
       " lastLogin       datetime64[ns]\n",
       " role                    object\n",
       " signUpSource            object\n",
       " state                   object\n",
       " dtype: object)"
      ]
     },
     "execution_count": 24,
     "metadata": {},
     "output_type": "execute_result"
    }
   ],
   "source": [
    "# Checking data types of the other two tables (Brands and Users)\n",
    "brands_data_types = brands_df.dtypes\n",
    "users_data_types = users_df.dtypes\n",
    "\n",
    "brands_data_types, users_data_types"
   ]
  },
  {
   "cell_type": "markdown",
   "metadata": {},
   "source": [
    "## Investigating receipts with total spend = 0"
   ]
  },
  {
   "cell_type": "code",
   "execution_count": 16,
   "metadata": {},
   "outputs": [
    {
     "name": "stdout",
     "output_type": "stream",
     "text": [
      "Receipts with negative or zero total_spent:\n",
      "                                      _id  bonusPointsEarned  \\\n",
      "15   {'$oid': '5ff1e1e90a7214ada1000569'}                NaN   \n",
      "81   {'$oid': '5ff4ce3c0a720f05230005c4'}                NaN   \n",
      "141  {'$oid': '5ff73be90a720f052300060a'}                NaN   \n",
      "144  {'$oid': '5ff794600a7214ada1000647'}                NaN   \n",
      "175  {'$oid': '5ff8da570a720f05c5000015'}                NaN   \n",
      "179  {'$oid': '5ff8da7d0a720f05c500001c'}                NaN   \n",
      "282  {'$oid': '6000d4aa0a720f05f3000072'}                NaN   \n",
      "396  {'$oid': '6009eb000a7214ada2000003'}              250.0   \n",
      "424  {'$oid': '600aff160a720f053500000c'}              500.0   \n",
      "544  {'$oid': '60132b890a7214ad50000013'}                NaN   \n",
      "559  {'$oid': '60145a540a720f05f8000116'}                NaN   \n",
      "642  {'$oid': '601830cd0a720f05f800034f'}                NaN   \n",
      "656  {'$oid': '60182f390a7214ad500002b8'}                NaN   \n",
      "681  {'$oid': '60189c920a7214ad2800003a'}                NaN   \n",
      "727  {'$oid': '601b32160a7214ad28000221'}                NaN   \n",
      "\n",
      "                               bonusPointsEarnedReason  \\\n",
      "15                                                 NaN   \n",
      "81                                                 NaN   \n",
      "141                                                NaN   \n",
      "144                                                NaN   \n",
      "175                                                NaN   \n",
      "179                                                NaN   \n",
      "282                                                NaN   \n",
      "396  Receipt number 3 completed, bonus point schedu...   \n",
      "424  Receipt number 2 completed, bonus point schedu...   \n",
      "544                                                NaN   \n",
      "559                                                NaN   \n",
      "642                                                NaN   \n",
      "656                                                NaN   \n",
      "681                                                NaN   \n",
      "727                                                NaN   \n",
      "\n",
      "                   createDate               dateScanned  \\\n",
      "15   {'$date': 1609687529000}  {'$date': 1609687529000}   \n",
      "81   {'$date': 1609879100000}  {'$date': 1609879100000}   \n",
      "141  {'$date': 1610038249000}  {'$date': 1610038249000}   \n",
      "144  {'$date': 1609996096000}  {'$date': 1609996096000}   \n",
      "175  {'$date': 1610144343000}  {'$date': 1610144343000}   \n",
      "179  {'$date': 1610144381000}  {'$date': 1610144381000}   \n",
      "282  {'$date': 1610667178000}  {'$date': 1610667178000}   \n",
      "396  {'$date': 1611262720000}  {'$date': 1611262720000}   \n",
      "424  {'$date': 1611333398000}  {'$date': 1611333398000}   \n",
      "544  {'$date': 1611869065000}  {'$date': 1611869065000}   \n",
      "559  {'$date': 1611946580000}  {'$date': 1611946580000}   \n",
      "642  {'$date': 1612198093000}  {'$date': 1612198093000}   \n",
      "656  {'$date': 1612197689000}  {'$date': 1612197689000}   \n",
      "681  {'$date': 1612225682000}  {'$date': 1612225682000}   \n",
      "727  {'$date': 1612395030000}  {'$date': 1612395030000}   \n",
      "\n",
      "                 finishedDate                modifyDate  \\\n",
      "15                        NaN  {'$date': 1609687529000}   \n",
      "81                        NaN  {'$date': 1609879100000}   \n",
      "141                       NaN  {'$date': 1610038249000}   \n",
      "144                       NaN  {'$date': 1610039297000}   \n",
      "175                       NaN  {'$date': 1610144344000}   \n",
      "179                       NaN  {'$date': 1610144381000}   \n",
      "282                       NaN  {'$date': 1610667178000}   \n",
      "396  {'$date': 1611262746000}  {'$date': 1611262755000}   \n",
      "424  {'$date': 1611333421000}  {'$date': 1611333433000}   \n",
      "544                       NaN  {'$date': 1611869065000}   \n",
      "559                       NaN  {'$date': 1611946580000}   \n",
      "642                       NaN  {'$date': 1612198093000}   \n",
      "656                       NaN  {'$date': 1612197690000}   \n",
      "681                       NaN  {'$date': 1612225683000}   \n",
      "727                       NaN  {'$date': 1612395031000}   \n",
      "\n",
      "            pointsAwardedDate  pointsEarned              purchaseDate  \\\n",
      "15                        NaN           NaN                       NaN   \n",
      "81                        NaN           NaN                       NaN   \n",
      "141                       NaN           NaN                       NaN   \n",
      "144                       NaN           NaN                       NaN   \n",
      "175                       NaN           NaN                       NaN   \n",
      "179                       NaN           NaN                       NaN   \n",
      "282                       NaN           NaN                       NaN   \n",
      "396  {'$date': 1611262746000}         250.0  {'$date': 1611187200000}   \n",
      "424  {'$date': 1611333421000}         500.0  {'$date': 1611273600000}   \n",
      "544                       NaN           NaN                       NaN   \n",
      "559                       NaN           NaN                       NaN   \n",
      "642                       NaN           NaN                       NaN   \n",
      "656                       NaN           NaN                       NaN   \n",
      "681                       NaN           NaN                       NaN   \n",
      "727                       NaN           NaN  {'$date': 1546473600000}   \n",
      "\n",
      "     purchasedItemCount                             rewardsReceiptItemList  \\\n",
      "15                  0.0  [{'needsFetchReview': True, 'needsFetchReviewR...   \n",
      "81                  0.0  [{'needsFetchReview': True, 'needsFetchReviewR...   \n",
      "141                 0.0  [{'needsFetchReview': True, 'needsFetchReviewR...   \n",
      "144                 0.0  [{'needsFetchReview': True, 'needsFetchReviewR...   \n",
      "175                 0.0                                                NaN   \n",
      "179                 0.0  [{'needsFetchReview': True, 'needsFetchReviewR...   \n",
      "282                 0.0  [{'needsFetchReview': True, 'needsFetchReviewR...   \n",
      "396                 0.0                                                NaN   \n",
      "424                 0.0                                                NaN   \n",
      "544                 0.0  [{'needsFetchReview': True, 'needsFetchReviewR...   \n",
      "559                 0.0  [{'needsFetchReview': True, 'needsFetchReviewR...   \n",
      "642                 0.0  [{'needsFetchReview': True, 'needsFetchReviewR...   \n",
      "656                 0.0                                                NaN   \n",
      "681                 0.0  [{'needsFetchReview': True, 'needsFetchReviewR...   \n",
      "727                 0.0                                                NaN   \n",
      "\n",
      "    rewardsReceiptStatus  totalSpent                    userId purchase_date  \n",
      "15               FLAGGED         0.0  5ff1e1e9b6a9d73a3a9f10f6           NaT  \n",
      "81               FLAGGED         0.0  5ff4ce3cc1e2d0121a9b2fba           NaT  \n",
      "141              FLAGGED         0.0  5ff73be9eb7c7d31ca8a45bc           NaT  \n",
      "144              FLAGGED         0.0  5ff7946004929111f6e90ceb           NaT  \n",
      "175             REJECTED         0.0  5ff8da28b3348b11c9337ac6           NaT  \n",
      "179              FLAGGED         0.0  5ff8da7db3348b11c9337b6a           NaT  \n",
      "282              FLAGGED         0.0  6000d4aafb296c121a81b27e           NaT  \n",
      "396             FINISHED         0.0  6009e60450b3311194385009    2021-01-21  \n",
      "424             FINISHED         0.0  600afb2a7d983a124e9aded0    2021-01-22  \n",
      "544              FLAGGED         0.0  60132b8873c60b3ca7f3bae8           NaT  \n",
      "559              FLAGGED         0.0  60145a5467804a1228b20ded           NaT  \n",
      "642              FLAGGED         0.0  601830cdc8b50e11d8454a6f           NaT  \n",
      "656             REJECTED         0.0  60182f1dc8b50e11d84548c4           NaT  \n",
      "681              FLAGGED         0.0  60189c92c8b50e11d8454f5d           NaT  \n",
      "727             REJECTED         0.0  5a43c08fe4b014fd6b6a0612    2019-01-03  \n"
     ]
    }
   ],
   "source": [
    "# Check for negative or suspicious values in total_spent or points_earned\n",
    "print(\"Receipts with negative or zero total_spent:\")\n",
    "print(receipts_df[receipts_df['totalSpent'] <= 0])\n",
    "\n"
   ]
  },
  {
   "cell_type": "code",
   "execution_count": 18,
   "metadata": {},
   "outputs": [
    {
     "data": {
      "text/plain": [
       "(2,\n",
       " 0,\n",
       "                        userId              purchaseDate  pointsEarned  \\\n",
       " 396  6009e60450b3311194385009  {'$date': 1611187200000}         250.0   \n",
       " 424  600afb2a7d983a124e9aded0  {'$date': 1611273600000}         500.0   \n",
       " \n",
       "      totalSpent rewardsReceiptItemList  \n",
       " 396         0.0                    NaN  \n",
       " 424         0.0                    NaN  )"
      ]
     },
     "execution_count": 18,
     "metadata": {},
     "output_type": "execute_result"
    }
   ],
   "source": [
    "# Investigating receipts marked as \"FINISHED\" but with a totalSpent of 0\n",
    "\n",
    "# Filter for receipts that are \"FINISHED\" but have a totalSpent of 0\n",
    "finished_zero_spent_receipts = receipts_df[(receipts_df['rewardsReceiptStatus'] == 'FINISHED') & (receipts_df['totalSpent'] == 0)]\n",
    "\n",
    "# Checking the number of these receipts and examining their key fields\n",
    "finished_zero_spent_count = finished_zero_spent_receipts.shape[0]\n",
    "finished_zero_spent_sample = finished_zero_spent_receipts[['userId', 'purchaseDate', 'pointsEarned', 'totalSpent', 'rewardsReceiptItemList']]\n",
    "\n",
    "# Check for potential patterns, e.g., presence of 'needsFetchReview' or unusual item descriptions in rewardsReceiptItemList\n",
    "needs_fetch_review_count = finished_zero_spent_receipts['rewardsReceiptItemList'].apply(lambda x: any(item.get('needsFetchReview', False) for item in x) if isinstance(x, list) else False).sum()\n",
    "\n",
    "finished_zero_spent_count, needs_fetch_review_count, finished_zero_spent_sample.head()\n"
   ]
  },
  {
   "cell_type": "markdown",
   "metadata": {},
   "source": [
    "## Investigating purchase_date to see if there is any date from the future added"
   ]
  },
  {
   "cell_type": "code",
   "execution_count": 20,
   "metadata": {},
   "outputs": [
    {
     "name": "stdout",
     "output_type": "stream",
     "text": [
      "Receipts with purchase_date in the future:\n",
      "Empty DataFrame\n",
      "Columns: [_id, bonusPointsEarned, bonusPointsEarnedReason, createDate, dateScanned, finishedDate, modifyDate, pointsAwardedDate, pointsEarned, purchaseDate, purchasedItemCount, rewardsReceiptItemList, rewardsReceiptStatus, totalSpent, userId, purchase_date]\n",
      "Index: []\n"
     ]
    }
   ],
   "source": [
    "from datetime import datetime\n",
    "import pandas as pd\n",
    "\n",
    "# Function to extract '$date' from dict and convert to datetime\n",
    "def convert_to_datetime(date_field):\n",
    "    if isinstance(date_field, dict) and '$date' in date_field:\n",
    "        # Convert timestamp (milliseconds) to datetime\n",
    "        return pd.to_datetime(date_field['$date'], unit='ms')\n",
    "    return pd.NaT  # Return 'Not a Time' if invalid\n",
    "\n",
    "# Apply the conversion to the purchaseDate field\n",
    "receipts_df['purchase_date'] = receipts_df['purchaseDate'].apply(convert_to_datetime)\n",
    "\n",
    "# Now check for future dates\n",
    "print(\"Receipts with purchase_date in the future:\")\n",
    "future_receipts = receipts_df[receipts_df['purchase_date'] > datetime.now()]\n",
    "print(future_receipts)"
   ]
  },
  {
   "cell_type": "markdown",
   "metadata": {},
   "source": [
    "So all dates are completely fine since an empty data frame was returned"
   ]
  },
  {
   "cell_type": "markdown",
   "metadata": {},
   "source": [
    "## Checking for Unique and consistent values"
   ]
  },
  {
   "cell_type": "markdown",
   "metadata": {},
   "source": []
  },
  {
   "cell_type": "code",
   "execution_count": 25,
   "metadata": {},
   "outputs": [
    {
     "data": {
      "text/plain": [
       "(array(['Baking', 'Beverages', 'Candy & Sweets', 'Condiments & Sauces',\n",
       "        'Canned Goods & Soups', nan, 'Magazines', 'Breakfast & Cereal',\n",
       "        'Beer Wine Spirits', 'Health & Wellness', 'Beauty', 'Baby',\n",
       "        'Frozen', 'Grocery', 'Snacks', 'Household', 'Personal Care',\n",
       "        'Dairy', 'Cleaning & Home Improvement', 'Deli',\n",
       "        'Beauty & Personal Care', 'Bread & Bakery', 'Outdoor',\n",
       "        'Dairy & Refrigerated'], dtype=object),\n",
       " array(['WI', 'KY', 'AL', 'CO', 'IL', nan, 'OH', 'SC', 'NH'], dtype=object),\n",
       " array(['consumer', 'fetch-staff'], dtype=object),\n",
       " array(['Email', 'Google', nan], dtype=object))"
      ]
     },
     "execution_count": 25,
     "metadata": {},
     "output_type": "execute_result"
    }
   ],
   "source": [
    "brands_category_unique = brands_df['category'].unique()\n",
    "users_state_unique = users_df['state'].unique()\n",
    "users_role_unique = users_df['role'].unique()\n",
    "users_signUpSource_unique = users_df['signUpSource'].unique()\n",
    "\n",
    "brands_category_unique, users_state_unique, users_role_unique, users_signUpSource_unique\n"
   ]
  },
  {
   "cell_type": "markdown",
   "metadata": {},
   "source": [
    "## Checking for Outliers\n"
   ]
  },
  {
   "cell_type": "code",
   "execution_count": 26,
   "metadata": {},
   "outputs": [
    {
     "data": {
      "text/plain": [
       "(count    555.000000\n",
       " mean       0.055856\n",
       " std        0.229850\n",
       " min        0.000000\n",
       " 25%        0.000000\n",
       " 50%        0.000000\n",
       " 75%        0.000000\n",
       " max        1.000000\n",
       " Name: topBrand, dtype: float64,\n",
       " count     433.000000\n",
       " mean     1359.270208\n",
       " std        51.310858\n",
       " min      1318.000000\n",
       " 25%      1348.000000\n",
       " 50%      1361.000000\n",
       " 75%      1374.000000\n",
       " max      2351.000000\n",
       " Name: days_since_login, dtype: float64)"
      ]
     },
     "execution_count": 26,
     "metadata": {},
     "output_type": "execute_result"
    }
   ],
   "source": [
    "# For Brands topBrand\n",
    "brands_topBrand_outliers = brands_df['topBrand'].describe()\n",
    "\n",
    "# For Users (days since last login)\n",
    "users_df['days_since_login'] = (pd.Timestamp.now() - users_df['lastLogin']).dt.days\n",
    "users_lastLogin_outliers = users_df['days_since_login'].describe()\n",
    "\n",
    "brands_topBrand_outliers, users_lastLogin_outliers\n"
   ]
  },
  {
   "cell_type": "code",
   "execution_count": 27,
   "metadata": {},
   "outputs": [
    {
     "data": {
      "text/plain": [
       "count     684.000000\n",
       "mean       77.796857\n",
       "std       347.110349\n",
       "min         0.000000\n",
       "25%         1.000000\n",
       "50%        18.200000\n",
       "75%        34.960000\n",
       "max      4721.950000\n",
       "Name: totalSpent, dtype: float64"
      ]
     },
     "execution_count": 27,
     "metadata": {},
     "output_type": "execute_result"
    }
   ],
   "source": [
    "total_spent_outliers = receipts_df['totalSpent'].describe()\n",
    "total_spent_outliers"
   ]
  },
  {
   "cell_type": "code",
   "execution_count": 29,
   "metadata": {},
   "outputs": [
    {
     "data": {
      "text/plain": [
       "count      609.000000\n",
       "mean       585.962890\n",
       "std       1357.166947\n",
       "min          0.000000\n",
       "25%          5.000000\n",
       "50%        150.000000\n",
       "75%        750.000000\n",
       "max      10199.800000\n",
       "Name: pointsEarned, dtype: float64"
      ]
     },
     "execution_count": 29,
     "metadata": {},
     "output_type": "execute_result"
    }
   ],
   "source": [
    "points_earned_outliers = receipts_df['pointsEarned'].describe()\n",
    "points_earned_outliers"
   ]
  },
  {
   "cell_type": "code",
   "execution_count": 30,
   "metadata": {},
   "outputs": [
    {
     "data": {
      "text/plain": [
       "count    635.00000\n",
       "mean      14.75748\n",
       "std       61.13424\n",
       "min        0.00000\n",
       "25%        1.00000\n",
       "50%        2.00000\n",
       "75%        5.00000\n",
       "max      689.00000\n",
       "Name: purchasedItemCount, dtype: float64"
      ]
     },
     "execution_count": 30,
     "metadata": {},
     "output_type": "execute_result"
    }
   ],
   "source": [
    "purchased_item_count_outliers = receipts_df['purchasedItemCount'].describe()\n",
    "purchased_item_count_outliers"
   ]
  },
  {
   "cell_type": "markdown",
   "metadata": {},
   "source": []
  }
 ],
 "metadata": {
  "kernelspec": {
   "display_name": "Python 3",
   "language": "python",
   "name": "python3"
  },
  "language_info": {
   "codemirror_mode": {
    "name": "ipython",
    "version": 3
   },
   "file_extension": ".py",
   "mimetype": "text/x-python",
   "name": "python",
   "nbconvert_exporter": "python",
   "pygments_lexer": "ipython3",
   "version": "3.11.3"
  }
 },
 "nbformat": 4,
 "nbformat_minor": 2
}
